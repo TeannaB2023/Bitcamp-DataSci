{
 "cells": [
  {
   "cell_type": "markdown",
   "metadata": {
    "colab_type": "text",
    "id": "view-in-github"
   },
   "source": [
    "<a href=\"https://colab.research.google.com/github/bitprj/Bitcamp-DataSci/blob/master/Week1-Introduction-to-Python-_-NumPy/Lab/Week_1_Lab.ipynb\" target=\"_parent\"><img src=\"https://colab.research.google.com/assets/colab-badge.svg\" alt=\"Open In Colab\"/></a>"
   ]
  },
  {
   "cell_type": "markdown",
   "metadata": {
    "colab_type": "text",
    "id": "zCRNgAGbbKAW"
   },
   "source": [
    "## <div align = \"center\">Lab 1</div>\n",
    "\n"
   ]
  },
  {
   "cell_type": "markdown",
   "metadata": {
    "colab_type": "text",
    "id": "uVvE-ylKyeh2"
   },
   "source": [
    "# <div align = \"center\">Python</div>"
   ]
  },
  {
   "cell_type": "markdown",
   "metadata": {
    "colab_type": "text",
    "id": "WG1wsQTKxuwr"
   },
   "source": [
    "Welcome to Lab 1. In this lab you will be using techniques you learned throughout Week 1. The purpose of this lab is to ensure you've mastered the basics of Python. Feel free to refer to the cheatsheet and lecture content while working through these problems."
   ]
  },
  {
   "cell_type": "markdown",
   "metadata": {
    "colab_type": "text",
    "id": "JW9GwVepfBMX"
   },
   "source": [
    "## Python Questions"
   ]
  },
  {
   "cell_type": "markdown",
   "metadata": {
    "colab_type": "text",
    "id": "15L6zJGV05_C"
   },
   "source": [
    "### Q1:\n",
    "Create a function that, when passed two integers, calculates their product. If the product is less than 5000, return the product else return the sum."
   ]
  },
  {
   "cell_type": "code",
   "execution_count": null,
   "metadata": {
    "colab": {},
    "colab_type": "code",
    "id": "0r3G4ngt0mmz"
   },
   "outputs": [],
   "source": [
    "# INSERT FUNCTION HERE\n",
    "\n",
    "number1 = 30\n",
    "number2 = 400\n",
    "number3 = 40\n",
    "\n",
    "answer1 = # INSERT RESULT OF PASSING IN NUMBERS 1 & 2\n",
    "print(\"The result is \", answer1)\n",
    "\n",
    "answer2 = # INSERT RESULT OF PASSING IN NUMBERS 1 & 3\n",
    "print(\"The result is \", answer2)"
   ]
  },
  {
   "cell_type": "markdown",
   "metadata": {
    "colab_type": "text",
    "id": "rMb_uEWs2cdP"
   },
   "source": [
    "### Q2: \n",
    "Create a function `sumNum()` that will loop through the numbers 0-19 and print the sum of the current number and the previous number."
   ]
  },
  {
   "cell_type": "code",
   "execution_count": null,
   "metadata": {
    "colab": {},
    "colab_type": "code",
    "id": "AnI_ngnG1trT"
   },
   "outputs": [],
   "source": [
    "def sumNum():\n",
    "  # INSERT CODE HERE\n",
    "\n"
   ]
  },
  {
   "cell_type": "markdown",
   "metadata": {
    "colab_type": "text",
    "id": "m5io1xVi3i0y"
   },
   "source": [
    "### Q3: \n",
    "Given a string, display only the characters in odd indices."
   ]
  },
  {
   "cell_type": "code",
   "execution_count": null,
   "metadata": {
    "colab": {},
    "colab_type": "code",
    "id": "QyRFNxCv3Dkx"
   },
   "outputs": [],
   "source": [
    "def printOddIndices(str):\n",
    "  # INSERT CODE HERE\n",
    "\n",
    "inputStr = \"python wizard\" \n",
    "\n",
    "print(\"Printing only odd index chars\")\n",
    "printOddIndices(inputStr)"
   ]
  },
  {
   "cell_type": "markdown",
   "metadata": {
    "colab_type": "text",
    "id": "C_bpCOmiCnib"
   },
   "source": [
    "### Q4: \n",
    "Given a list, slice it into a 3 equal chunks and reverse each list. Display both the original chunks as well as the reversed chunks.\n"
   ]
  },
  {
   "cell_type": "code",
   "execution_count": null,
   "metadata": {
    "colab": {},
    "colab_type": "code",
    "id": "EGcW9rndBj_-"
   },
   "outputs": [],
   "source": [
    "vec = [91, 52, 84, 5, 92, 85, 27, 48, 30]\n",
    "\n",
    "# INSERT CODE HERE\n"
   ]
  },
  {
   "cell_type": "markdown",
   "metadata": {
    "colab_type": "text",
    "id": "2U3NL0TyDSlL"
   },
   "source": [
    "### Q5: \n",
    "Given a list, iterate it, count the occurrence of each element and then create a dictionary to display the count of each element.\n",
    "\n",
    "EXPECTED OUTPUT:\n",
    "\n",
    "Original list  [11, 45, 8, 11, 23, 45, 23, 45, 89]\n",
    "\n",
    "Count of each item   {11: 2, 45: 3, 8: 1, 23: 2, 89: 1}"
   ]
  },
  {
   "cell_type": "code",
   "execution_count": null,
   "metadata": {
    "colab": {},
    "colab_type": "code",
    "id": "UO7cBDAkCv1i"
   },
   "outputs": [],
   "source": [
    "vec = [11, 45, 8, 11, 23, 45, 23, 45, 89]\n",
    "print(\"Original list \", vec)\n",
    "\n",
    "answer1 = dict()\n",
    "\n",
    "# INSERT CODE HERE\n",
    "\n",
    "\n",
    "  \n",
    "print(\"Count of each item  \",answer1)"
   ]
  },
  {
   "cell_type": "markdown",
   "metadata": {
    "colab_type": "text",
    "id": "dnTj6CRhb6kD"
   },
   "source": [
    "## Import NumPy"
   ]
  },
  {
   "cell_type": "code",
   "execution_count": null,
   "metadata": {
    "colab": {},
    "colab_type": "code",
    "id": "bC_Y0mFpbwX5"
   },
   "outputs": [],
   "source": [
    "import numpy as np"
   ]
  },
  {
   "cell_type": "markdown",
   "metadata": {
    "colab_type": "text",
    "id": "HuZeGkE4eacZ"
   },
   "source": [
    "### Q6: Generate a 4x4 NumPy matrix with values ranging from 5 to 20."
   ]
  },
  {
   "cell_type": "code",
   "execution_count": null,
   "metadata": {
    "colab": {},
    "colab_type": "code",
    "id": "lMra4T7vfHBg"
   },
   "outputs": [],
   "source": [
    "# INSERT CODE HERE"
   ]
  },
  {
   "cell_type": "markdown",
   "metadata": {
    "colab_type": "text",
    "id": "TgJVWMMiuXAj"
   },
   "source": [
    "### Q7: Create a 2x3 matrix with values from 1-6. Obtain all rows from the second and third columns."
   ]
  },
  {
   "cell_type": "code",
   "execution_count": null,
   "metadata": {
    "colab": {},
    "colab_type": "code",
    "id": "dN8ZEIebstVP"
   },
   "outputs": [],
   "source": [
    "# INSERT CODE HERE"
   ]
  },
  {
   "cell_type": "markdown",
   "metadata": {
    "colab_type": "text",
    "id": "GUq7_xVJv04Z"
   },
   "source": [
    "### Q8: Create an array with numbers 1-10 and then zero out all multiples of 3."
   ]
  },
  {
   "cell_type": "code",
   "execution_count": null,
   "metadata": {
    "colab": {},
    "colab_type": "code",
    "id": "6IjYaUXbvr4z"
   },
   "outputs": [],
   "source": [
    "# INSERT CODE HERE"
   ]
  }
 ],
 "metadata": {
  "colab": {
   "collapsed_sections": [],
   "include_colab_link": true,
   "name": "Week 1 Lab.ipynb",
   "provenance": []
  },
  "kernelspec": {
   "display_name": "Python 3",
   "language": "python",
   "name": "python3"
  },
  "language_info": {
   "codemirror_mode": {
    "name": "ipython",
    "version": 3
   },
   "file_extension": ".py",
   "mimetype": "text/x-python",
   "name": "python",
   "nbconvert_exporter": "python",
   "pygments_lexer": "ipython3",
   "version": "3.7.7"
  }
 },
 "nbformat": 4,
 "nbformat_minor": 1
}
