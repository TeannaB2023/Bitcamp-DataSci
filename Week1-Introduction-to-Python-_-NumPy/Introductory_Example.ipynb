{
 "cells": [
  {
   "cell_type": "markdown",
   "metadata": {
    "colab_type": "text",
    "id": "view-in-github"
   },
   "source": [
    "<a href=\"https://colab.research.google.com/github/bitprj/Bitcamp-DataSci/blob/master/Week1-Introduction-to-Python-_-NumPy/Introductory_Example.ipynb\" target=\"_parent\"><img src=\"https://colab.research.google.com/assets/colab-badge.svg\" alt=\"Open In Colab\"/></a>"
   ]
  },
  {
   "cell_type": "code",
   "execution_count": null,
   "metadata": {
    "colab": {},
    "colab_type": "code",
    "id": "tkbH4nECbZSZ"
   },
   "outputs": [],
   "source": [
    "# reads in the text file whose name is specified on the command line,\n",
    "# and reports the number of lines and words\n",
    "\n",
    "import sys\n",
    "\n",
    "def checkline():\n",
    "  global l\n",
    "  global wordcount\n",
    "  w = l.split()\n",
    "  wordcount += len(w)\n",
    "  \n",
    "  wordcount = 0\n",
    "  f = open(sys.argv[1]) # THIS VERSION IS FOR COMMAND LINE, CAN ALSO IMPORT FILE INTO COLAB\n",
    "  flines = f.readlines()\n",
    "  linecount = len(flines)\n",
    "  for l in flines:\n",
    "    checkline()\n",
    "  print(linecount, wordcount)"
   ]
  }
 ],
 "metadata": {
  "colab": {
   "include_colab_link": true,
   "name": "Introductory Example.ipynb",
   "provenance": []
  },
  "kernelspec": {
   "display_name": "Python 3",
   "language": "python",
   "name": "python3"
  },
  "language_info": {
   "codemirror_mode": {
    "name": "ipython",
    "version": 3
   },
   "file_extension": ".py",
   "mimetype": "text/x-python",
   "name": "python",
   "nbconvert_exporter": "python",
   "pygments_lexer": "ipython3",
   "version": "3.7.7"
  }
 },
 "nbformat": 4,
 "nbformat_minor": 1
}
