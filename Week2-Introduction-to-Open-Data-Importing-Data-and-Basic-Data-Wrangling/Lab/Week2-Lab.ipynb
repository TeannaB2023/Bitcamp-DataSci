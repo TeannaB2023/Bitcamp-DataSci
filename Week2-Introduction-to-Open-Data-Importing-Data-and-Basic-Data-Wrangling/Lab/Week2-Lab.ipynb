{
 "cells": [
  {
   "cell_type": "markdown",
   "metadata": {
    "colab_type": "text",
    "id": "view-in-github"
   },
   "source": [
    "<a href=\"https://colab.research.google.com/github/bitprj/Bitcamp-DataSci/blob/master/Week2-Introduction-to-Open-Data-Importing-Data-and-Basic-Data-Wrangling/Lab/Week2-Lab.ipynb\" target=\"_parent\"><img src=\"https://colab.research.google.com/assets/colab-badge.svg\" alt=\"Open In Colab\"/></a>"
   ]
  },
  {
   "cell_type": "markdown",
   "metadata": {
    "colab_type": "text",
    "id": "niysqLC_y8ts"
   },
   "source": [
    "## <div align = \"center\">Lab 2</div>\n",
    "# <div align = \"center\">US Census Data</div>"
   ]
  },
  {
   "cell_type": "markdown",
   "metadata": {
    "colab_type": "text",
    "id": "I3KSeq2Zy8tt"
   },
   "source": [
    "**Welcome to Lab 2!** In this lab, you will be using techniques you learned in Week 2. The purpose of this lab for you to do data manipulation with ```Pandas``` and to express your observations. We have limited the prompts here to some demographic and high-level observations, so feel free to explore the correlations and your findings more in depth.\n",
    "\n",
    "Feel free to refer back to week 2 tutorial notebook and please ask questions to your instructors if you're stuck, confused, or want to know more!"
   ]
  },
  {
   "cell_type": "markdown",
   "metadata": {
    "colab_type": "text",
    "id": "xVLcYzB-y8tt"
   },
   "source": [
    "### Grading"
   ]
  },
  {
   "cell_type": "markdown",
   "metadata": {
    "colab_type": "text",
    "id": "j8Q3BiiXy8tu"
   },
   "source": [
    "There are a total of five questions and each question is worth 3-5 points."
   ]
  },
  {
   "cell_type": "markdown",
   "metadata": {
    "colab_type": "text",
    "id": "2rT0Pt-Ny8tu"
   },
   "source": [
    "### Import Library"
   ]
  },
  {
   "cell_type": "code",
   "execution_count": 1,
   "metadata": {
    "colab": {},
    "colab_type": "code",
    "id": "EtymSgmry8tv"
   },
   "outputs": [],
   "source": [
    "import pandas as pd"
   ]
  },
  {
   "cell_type": "markdown",
   "metadata": {
    "colab_type": "text",
    "id": "qQLwxdZOy8tz"
   },
   "source": [
    "### Load dataset"
   ]
  },
  {
   "cell_type": "code",
   "execution_count": 2,
   "metadata": {
    "colab": {},
    "colab_type": "code",
    "id": "uI4M3fVfy8t0",
    "outputId": "8c3a423b-c5e3-4d99-a98e-3e892c5b8d37"
   },
   "outputs": [
    {
     "data": {
      "text/html": [
       "<div>\n",
       "<style scoped>\n",
       "    .dataframe tbody tr th:only-of-type {\n",
       "        vertical-align: middle;\n",
       "    }\n",
       "\n",
       "    .dataframe tbody tr th {\n",
       "        vertical-align: top;\n",
       "    }\n",
       "\n",
       "    .dataframe thead th {\n",
       "        text-align: right;\n",
       "    }\n",
       "</style>\n",
       "<table border=\"1\" class=\"dataframe\">\n",
       "  <thead>\n",
       "    <tr style=\"text-align: right;\">\n",
       "      <th></th>\n",
       "      <th>CountyId</th>\n",
       "      <th>State</th>\n",
       "      <th>County</th>\n",
       "      <th>TotalPop</th>\n",
       "      <th>Men</th>\n",
       "      <th>Women</th>\n",
       "      <th>Hispanic</th>\n",
       "      <th>White</th>\n",
       "      <th>Black</th>\n",
       "      <th>Native</th>\n",
       "      <th>...</th>\n",
       "      <th>Walk</th>\n",
       "      <th>OtherTransp</th>\n",
       "      <th>WorkAtHome</th>\n",
       "      <th>MeanCommute</th>\n",
       "      <th>Employed</th>\n",
       "      <th>PrivateWork</th>\n",
       "      <th>PublicWork</th>\n",
       "      <th>SelfEmployed</th>\n",
       "      <th>FamilyWork</th>\n",
       "      <th>Unemployment</th>\n",
       "    </tr>\n",
       "  </thead>\n",
       "  <tbody>\n",
       "    <tr>\n",
       "      <th>0</th>\n",
       "      <td>1001</td>\n",
       "      <td>Alabama</td>\n",
       "      <td>Autauga County</td>\n",
       "      <td>55036</td>\n",
       "      <td>26899</td>\n",
       "      <td>28137</td>\n",
       "      <td>2.7</td>\n",
       "      <td>75.4</td>\n",
       "      <td>18.9</td>\n",
       "      <td>0.3</td>\n",
       "      <td>...</td>\n",
       "      <td>0.6</td>\n",
       "      <td>1.3</td>\n",
       "      <td>2.5</td>\n",
       "      <td>25.8</td>\n",
       "      <td>24112</td>\n",
       "      <td>74.1</td>\n",
       "      <td>20.2</td>\n",
       "      <td>5.6</td>\n",
       "      <td>0.1</td>\n",
       "      <td>5.2</td>\n",
       "    </tr>\n",
       "    <tr>\n",
       "      <th>1</th>\n",
       "      <td>1003</td>\n",
       "      <td>Alabama</td>\n",
       "      <td>Baldwin County</td>\n",
       "      <td>203360</td>\n",
       "      <td>99527</td>\n",
       "      <td>103833</td>\n",
       "      <td>4.4</td>\n",
       "      <td>83.1</td>\n",
       "      <td>9.5</td>\n",
       "      <td>0.8</td>\n",
       "      <td>...</td>\n",
       "      <td>0.8</td>\n",
       "      <td>1.1</td>\n",
       "      <td>5.6</td>\n",
       "      <td>27.0</td>\n",
       "      <td>89527</td>\n",
       "      <td>80.7</td>\n",
       "      <td>12.9</td>\n",
       "      <td>6.3</td>\n",
       "      <td>0.1</td>\n",
       "      <td>5.5</td>\n",
       "    </tr>\n",
       "    <tr>\n",
       "      <th>2</th>\n",
       "      <td>1005</td>\n",
       "      <td>Alabama</td>\n",
       "      <td>Barbour County</td>\n",
       "      <td>26201</td>\n",
       "      <td>13976</td>\n",
       "      <td>12225</td>\n",
       "      <td>4.2</td>\n",
       "      <td>45.7</td>\n",
       "      <td>47.8</td>\n",
       "      <td>0.2</td>\n",
       "      <td>...</td>\n",
       "      <td>2.2</td>\n",
       "      <td>1.7</td>\n",
       "      <td>1.3</td>\n",
       "      <td>23.4</td>\n",
       "      <td>8878</td>\n",
       "      <td>74.1</td>\n",
       "      <td>19.1</td>\n",
       "      <td>6.5</td>\n",
       "      <td>0.3</td>\n",
       "      <td>12.4</td>\n",
       "    </tr>\n",
       "    <tr>\n",
       "      <th>3</th>\n",
       "      <td>1007</td>\n",
       "      <td>Alabama</td>\n",
       "      <td>Bibb County</td>\n",
       "      <td>22580</td>\n",
       "      <td>12251</td>\n",
       "      <td>10329</td>\n",
       "      <td>2.4</td>\n",
       "      <td>74.6</td>\n",
       "      <td>22.0</td>\n",
       "      <td>0.4</td>\n",
       "      <td>...</td>\n",
       "      <td>0.3</td>\n",
       "      <td>1.7</td>\n",
       "      <td>1.5</td>\n",
       "      <td>30.0</td>\n",
       "      <td>8171</td>\n",
       "      <td>76.0</td>\n",
       "      <td>17.4</td>\n",
       "      <td>6.3</td>\n",
       "      <td>0.3</td>\n",
       "      <td>8.2</td>\n",
       "    </tr>\n",
       "    <tr>\n",
       "      <th>4</th>\n",
       "      <td>1009</td>\n",
       "      <td>Alabama</td>\n",
       "      <td>Blount County</td>\n",
       "      <td>57667</td>\n",
       "      <td>28490</td>\n",
       "      <td>29177</td>\n",
       "      <td>9.0</td>\n",
       "      <td>87.4</td>\n",
       "      <td>1.5</td>\n",
       "      <td>0.3</td>\n",
       "      <td>...</td>\n",
       "      <td>0.4</td>\n",
       "      <td>0.4</td>\n",
       "      <td>2.1</td>\n",
       "      <td>35.0</td>\n",
       "      <td>21380</td>\n",
       "      <td>83.9</td>\n",
       "      <td>11.9</td>\n",
       "      <td>4.0</td>\n",
       "      <td>0.1</td>\n",
       "      <td>4.9</td>\n",
       "    </tr>\n",
       "    <tr>\n",
       "      <th>...</th>\n",
       "      <td>...</td>\n",
       "      <td>...</td>\n",
       "      <td>...</td>\n",
       "      <td>...</td>\n",
       "      <td>...</td>\n",
       "      <td>...</td>\n",
       "      <td>...</td>\n",
       "      <td>...</td>\n",
       "      <td>...</td>\n",
       "      <td>...</td>\n",
       "      <td>...</td>\n",
       "      <td>...</td>\n",
       "      <td>...</td>\n",
       "      <td>...</td>\n",
       "      <td>...</td>\n",
       "      <td>...</td>\n",
       "      <td>...</td>\n",
       "      <td>...</td>\n",
       "      <td>...</td>\n",
       "      <td>...</td>\n",
       "      <td>...</td>\n",
       "    </tr>\n",
       "    <tr>\n",
       "      <th>3215</th>\n",
       "      <td>72145</td>\n",
       "      <td>Puerto Rico</td>\n",
       "      <td>Vega Baja Municipio</td>\n",
       "      <td>54754</td>\n",
       "      <td>26269</td>\n",
       "      <td>28485</td>\n",
       "      <td>96.7</td>\n",
       "      <td>3.1</td>\n",
       "      <td>0.1</td>\n",
       "      <td>0.0</td>\n",
       "      <td>...</td>\n",
       "      <td>1.4</td>\n",
       "      <td>0.6</td>\n",
       "      <td>0.9</td>\n",
       "      <td>31.6</td>\n",
       "      <td>14234</td>\n",
       "      <td>76.2</td>\n",
       "      <td>19.3</td>\n",
       "      <td>4.3</td>\n",
       "      <td>0.2</td>\n",
       "      <td>16.8</td>\n",
       "    </tr>\n",
       "    <tr>\n",
       "      <th>3216</th>\n",
       "      <td>72147</td>\n",
       "      <td>Puerto Rico</td>\n",
       "      <td>Vieques Municipio</td>\n",
       "      <td>8931</td>\n",
       "      <td>4351</td>\n",
       "      <td>4580</td>\n",
       "      <td>95.7</td>\n",
       "      <td>4.0</td>\n",
       "      <td>0.0</td>\n",
       "      <td>0.0</td>\n",
       "      <td>...</td>\n",
       "      <td>5.0</td>\n",
       "      <td>0.0</td>\n",
       "      <td>1.7</td>\n",
       "      <td>14.9</td>\n",
       "      <td>2927</td>\n",
       "      <td>40.7</td>\n",
       "      <td>40.9</td>\n",
       "      <td>18.4</td>\n",
       "      <td>0.0</td>\n",
       "      <td>12.8</td>\n",
       "    </tr>\n",
       "    <tr>\n",
       "      <th>3217</th>\n",
       "      <td>72149</td>\n",
       "      <td>Puerto Rico</td>\n",
       "      <td>Villalba Municipio</td>\n",
       "      <td>23659</td>\n",
       "      <td>11510</td>\n",
       "      <td>12149</td>\n",
       "      <td>99.7</td>\n",
       "      <td>0.2</td>\n",
       "      <td>0.1</td>\n",
       "      <td>0.0</td>\n",
       "      <td>...</td>\n",
       "      <td>2.1</td>\n",
       "      <td>0.0</td>\n",
       "      <td>2.8</td>\n",
       "      <td>28.4</td>\n",
       "      <td>6873</td>\n",
       "      <td>59.2</td>\n",
       "      <td>30.2</td>\n",
       "      <td>10.4</td>\n",
       "      <td>0.2</td>\n",
       "      <td>24.8</td>\n",
       "    </tr>\n",
       "    <tr>\n",
       "      <th>3218</th>\n",
       "      <td>72151</td>\n",
       "      <td>Puerto Rico</td>\n",
       "      <td>Yabucoa Municipio</td>\n",
       "      <td>35025</td>\n",
       "      <td>16984</td>\n",
       "      <td>18041</td>\n",
       "      <td>99.9</td>\n",
       "      <td>0.1</td>\n",
       "      <td>0.0</td>\n",
       "      <td>0.0</td>\n",
       "      <td>...</td>\n",
       "      <td>1.4</td>\n",
       "      <td>1.8</td>\n",
       "      <td>0.1</td>\n",
       "      <td>30.5</td>\n",
       "      <td>7878</td>\n",
       "      <td>62.7</td>\n",
       "      <td>30.9</td>\n",
       "      <td>6.3</td>\n",
       "      <td>0.0</td>\n",
       "      <td>25.4</td>\n",
       "    </tr>\n",
       "    <tr>\n",
       "      <th>3219</th>\n",
       "      <td>72153</td>\n",
       "      <td>Puerto Rico</td>\n",
       "      <td>Yauco Municipio</td>\n",
       "      <td>37585</td>\n",
       "      <td>18052</td>\n",
       "      <td>19533</td>\n",
       "      <td>99.8</td>\n",
       "      <td>0.2</td>\n",
       "      <td>0.0</td>\n",
       "      <td>0.0</td>\n",
       "      <td>...</td>\n",
       "      <td>1.7</td>\n",
       "      <td>0.1</td>\n",
       "      <td>5.0</td>\n",
       "      <td>24.4</td>\n",
       "      <td>8995</td>\n",
       "      <td>66.4</td>\n",
       "      <td>28.7</td>\n",
       "      <td>5.0</td>\n",
       "      <td>0.0</td>\n",
       "      <td>24.0</td>\n",
       "    </tr>\n",
       "  </tbody>\n",
       "</table>\n",
       "<p>3220 rows × 37 columns</p>\n",
       "</div>"
      ],
      "text/plain": [
       "      CountyId        State               County  TotalPop    Men   Women  \\\n",
       "0         1001      Alabama       Autauga County     55036  26899   28137   \n",
       "1         1003      Alabama       Baldwin County    203360  99527  103833   \n",
       "2         1005      Alabama       Barbour County     26201  13976   12225   \n",
       "3         1007      Alabama          Bibb County     22580  12251   10329   \n",
       "4         1009      Alabama        Blount County     57667  28490   29177   \n",
       "...        ...          ...                  ...       ...    ...     ...   \n",
       "3215     72145  Puerto Rico  Vega Baja Municipio     54754  26269   28485   \n",
       "3216     72147  Puerto Rico    Vieques Municipio      8931   4351    4580   \n",
       "3217     72149  Puerto Rico   Villalba Municipio     23659  11510   12149   \n",
       "3218     72151  Puerto Rico    Yabucoa Municipio     35025  16984   18041   \n",
       "3219     72153  Puerto Rico      Yauco Municipio     37585  18052   19533   \n",
       "\n",
       "      Hispanic  White  Black  Native  ...  Walk  OtherTransp  WorkAtHome  \\\n",
       "0          2.7   75.4   18.9     0.3  ...   0.6          1.3         2.5   \n",
       "1          4.4   83.1    9.5     0.8  ...   0.8          1.1         5.6   \n",
       "2          4.2   45.7   47.8     0.2  ...   2.2          1.7         1.3   \n",
       "3          2.4   74.6   22.0     0.4  ...   0.3          1.7         1.5   \n",
       "4          9.0   87.4    1.5     0.3  ...   0.4          0.4         2.1   \n",
       "...        ...    ...    ...     ...  ...   ...          ...         ...   \n",
       "3215      96.7    3.1    0.1     0.0  ...   1.4          0.6         0.9   \n",
       "3216      95.7    4.0    0.0     0.0  ...   5.0          0.0         1.7   \n",
       "3217      99.7    0.2    0.1     0.0  ...   2.1          0.0         2.8   \n",
       "3218      99.9    0.1    0.0     0.0  ...   1.4          1.8         0.1   \n",
       "3219      99.8    0.2    0.0     0.0  ...   1.7          0.1         5.0   \n",
       "\n",
       "      MeanCommute  Employed  PrivateWork  PublicWork  SelfEmployed  \\\n",
       "0            25.8     24112         74.1        20.2           5.6   \n",
       "1            27.0     89527         80.7        12.9           6.3   \n",
       "2            23.4      8878         74.1        19.1           6.5   \n",
       "3            30.0      8171         76.0        17.4           6.3   \n",
       "4            35.0     21380         83.9        11.9           4.0   \n",
       "...           ...       ...          ...         ...           ...   \n",
       "3215         31.6     14234         76.2        19.3           4.3   \n",
       "3216         14.9      2927         40.7        40.9          18.4   \n",
       "3217         28.4      6873         59.2        30.2          10.4   \n",
       "3218         30.5      7878         62.7        30.9           6.3   \n",
       "3219         24.4      8995         66.4        28.7           5.0   \n",
       "\n",
       "      FamilyWork  Unemployment  \n",
       "0            0.1           5.2  \n",
       "1            0.1           5.5  \n",
       "2            0.3          12.4  \n",
       "3            0.3           8.2  \n",
       "4            0.1           4.9  \n",
       "...          ...           ...  \n",
       "3215         0.2          16.8  \n",
       "3216         0.0          12.8  \n",
       "3217         0.2          24.8  \n",
       "3218         0.0          25.4  \n",
       "3219         0.0          24.0  \n",
       "\n",
       "[3220 rows x 37 columns]"
      ]
     },
     "execution_count": 2,
     "metadata": {},
     "output_type": "execute_result"
    }
   ],
   "source": [
    "url = 'https://raw.githubusercontent.com/bitprj/Bitcamp-DataSci/master/Week2-Introduction-to-Open-Data-Importing-Data-and-Basic-Data-Wrangling/data/acs2017_county_data.csv'\n",
    "df = pd.read_csv(url)\n",
    "df"
   ]
  },
  {
   "cell_type": "markdown",
   "metadata": {
    "colab_type": "text",
    "id": "njvbr_Ley8t3"
   },
   "source": [
    "## Lab Questions\n",
    "\n",
    "**Since this dataset has lots of information, feel free to select a set of columns to answer each question.**"
   ]
  },
  {
   "cell_type": "code",
   "execution_count": 3,
   "metadata": {
    "colab": {},
    "colab_type": "code",
    "id": "y01zDzx1y8t3",
    "outputId": "9ba6877a-f47e-4dc7-cdbb-4d2ec2411d56"
   },
   "outputs": [
    {
     "data": {
      "text/html": [
       "<div>\n",
       "<style scoped>\n",
       "    .dataframe tbody tr th:only-of-type {\n",
       "        vertical-align: middle;\n",
       "    }\n",
       "\n",
       "    .dataframe tbody tr th {\n",
       "        vertical-align: top;\n",
       "    }\n",
       "\n",
       "    .dataframe thead th {\n",
       "        text-align: right;\n",
       "    }\n",
       "</style>\n",
       "<table border=\"1\" class=\"dataframe\">\n",
       "  <thead>\n",
       "    <tr style=\"text-align: right;\">\n",
       "      <th></th>\n",
       "      <th>CountyId</th>\n",
       "      <th>State</th>\n",
       "      <th>County</th>\n",
       "      <th>TotalPop</th>\n",
       "      <th>Men</th>\n",
       "      <th>Women</th>\n",
       "      <th>Hispanic</th>\n",
       "      <th>White</th>\n",
       "      <th>Black</th>\n",
       "      <th>Native</th>\n",
       "      <th>...</th>\n",
       "      <th>Walk</th>\n",
       "      <th>OtherTransp</th>\n",
       "      <th>WorkAtHome</th>\n",
       "      <th>MeanCommute</th>\n",
       "      <th>Employed</th>\n",
       "      <th>PrivateWork</th>\n",
       "      <th>PublicWork</th>\n",
       "      <th>SelfEmployed</th>\n",
       "      <th>FamilyWork</th>\n",
       "      <th>Unemployment</th>\n",
       "    </tr>\n",
       "  </thead>\n",
       "  <tbody>\n",
       "    <tr>\n",
       "      <th>0</th>\n",
       "      <td>1001</td>\n",
       "      <td>Alabama</td>\n",
       "      <td>Autauga County</td>\n",
       "      <td>55036</td>\n",
       "      <td>26899</td>\n",
       "      <td>28137</td>\n",
       "      <td>2.7</td>\n",
       "      <td>75.4</td>\n",
       "      <td>18.9</td>\n",
       "      <td>0.3</td>\n",
       "      <td>...</td>\n",
       "      <td>0.6</td>\n",
       "      <td>1.3</td>\n",
       "      <td>2.5</td>\n",
       "      <td>25.8</td>\n",
       "      <td>24112</td>\n",
       "      <td>74.1</td>\n",
       "      <td>20.2</td>\n",
       "      <td>5.6</td>\n",
       "      <td>0.1</td>\n",
       "      <td>5.2</td>\n",
       "    </tr>\n",
       "    <tr>\n",
       "      <th>1</th>\n",
       "      <td>1003</td>\n",
       "      <td>Alabama</td>\n",
       "      <td>Baldwin County</td>\n",
       "      <td>203360</td>\n",
       "      <td>99527</td>\n",
       "      <td>103833</td>\n",
       "      <td>4.4</td>\n",
       "      <td>83.1</td>\n",
       "      <td>9.5</td>\n",
       "      <td>0.8</td>\n",
       "      <td>...</td>\n",
       "      <td>0.8</td>\n",
       "      <td>1.1</td>\n",
       "      <td>5.6</td>\n",
       "      <td>27.0</td>\n",
       "      <td>89527</td>\n",
       "      <td>80.7</td>\n",
       "      <td>12.9</td>\n",
       "      <td>6.3</td>\n",
       "      <td>0.1</td>\n",
       "      <td>5.5</td>\n",
       "    </tr>\n",
       "    <tr>\n",
       "      <th>2</th>\n",
       "      <td>1005</td>\n",
       "      <td>Alabama</td>\n",
       "      <td>Barbour County</td>\n",
       "      <td>26201</td>\n",
       "      <td>13976</td>\n",
       "      <td>12225</td>\n",
       "      <td>4.2</td>\n",
       "      <td>45.7</td>\n",
       "      <td>47.8</td>\n",
       "      <td>0.2</td>\n",
       "      <td>...</td>\n",
       "      <td>2.2</td>\n",
       "      <td>1.7</td>\n",
       "      <td>1.3</td>\n",
       "      <td>23.4</td>\n",
       "      <td>8878</td>\n",
       "      <td>74.1</td>\n",
       "      <td>19.1</td>\n",
       "      <td>6.5</td>\n",
       "      <td>0.3</td>\n",
       "      <td>12.4</td>\n",
       "    </tr>\n",
       "    <tr>\n",
       "      <th>3</th>\n",
       "      <td>1007</td>\n",
       "      <td>Alabama</td>\n",
       "      <td>Bibb County</td>\n",
       "      <td>22580</td>\n",
       "      <td>12251</td>\n",
       "      <td>10329</td>\n",
       "      <td>2.4</td>\n",
       "      <td>74.6</td>\n",
       "      <td>22.0</td>\n",
       "      <td>0.4</td>\n",
       "      <td>...</td>\n",
       "      <td>0.3</td>\n",
       "      <td>1.7</td>\n",
       "      <td>1.5</td>\n",
       "      <td>30.0</td>\n",
       "      <td>8171</td>\n",
       "      <td>76.0</td>\n",
       "      <td>17.4</td>\n",
       "      <td>6.3</td>\n",
       "      <td>0.3</td>\n",
       "      <td>8.2</td>\n",
       "    </tr>\n",
       "    <tr>\n",
       "      <th>4</th>\n",
       "      <td>1009</td>\n",
       "      <td>Alabama</td>\n",
       "      <td>Blount County</td>\n",
       "      <td>57667</td>\n",
       "      <td>28490</td>\n",
       "      <td>29177</td>\n",
       "      <td>9.0</td>\n",
       "      <td>87.4</td>\n",
       "      <td>1.5</td>\n",
       "      <td>0.3</td>\n",
       "      <td>...</td>\n",
       "      <td>0.4</td>\n",
       "      <td>0.4</td>\n",
       "      <td>2.1</td>\n",
       "      <td>35.0</td>\n",
       "      <td>21380</td>\n",
       "      <td>83.9</td>\n",
       "      <td>11.9</td>\n",
       "      <td>4.0</td>\n",
       "      <td>0.1</td>\n",
       "      <td>4.9</td>\n",
       "    </tr>\n",
       "  </tbody>\n",
       "</table>\n",
       "<p>5 rows × 37 columns</p>\n",
       "</div>"
      ],
      "text/plain": [
       "   CountyId    State          County  TotalPop    Men   Women  Hispanic  \\\n",
       "0      1001  Alabama  Autauga County     55036  26899   28137       2.7   \n",
       "1      1003  Alabama  Baldwin County    203360  99527  103833       4.4   \n",
       "2      1005  Alabama  Barbour County     26201  13976   12225       4.2   \n",
       "3      1007  Alabama     Bibb County     22580  12251   10329       2.4   \n",
       "4      1009  Alabama   Blount County     57667  28490   29177       9.0   \n",
       "\n",
       "   White  Black  Native  ...  Walk  OtherTransp  WorkAtHome  MeanCommute  \\\n",
       "0   75.4   18.9     0.3  ...   0.6          1.3         2.5         25.8   \n",
       "1   83.1    9.5     0.8  ...   0.8          1.1         5.6         27.0   \n",
       "2   45.7   47.8     0.2  ...   2.2          1.7         1.3         23.4   \n",
       "3   74.6   22.0     0.4  ...   0.3          1.7         1.5         30.0   \n",
       "4   87.4    1.5     0.3  ...   0.4          0.4         2.1         35.0   \n",
       "\n",
       "   Employed  PrivateWork  PublicWork  SelfEmployed  FamilyWork  Unemployment  \n",
       "0     24112         74.1        20.2           5.6         0.1           5.2  \n",
       "1     89527         80.7        12.9           6.3         0.1           5.5  \n",
       "2      8878         74.1        19.1           6.5         0.3          12.4  \n",
       "3      8171         76.0        17.4           6.3         0.3           8.2  \n",
       "4     21380         83.9        11.9           4.0         0.1           4.9  \n",
       "\n",
       "[5 rows x 37 columns]"
      ]
     },
     "execution_count": 3,
     "metadata": {},
     "output_type": "execute_result"
    }
   ],
   "source": [
    "df.head()"
   ]
  },
  {
   "cell_type": "markdown",
   "metadata": {
    "colab_type": "text",
    "id": "TmFuSeZ7y8t6"
   },
   "source": [
    "### Q1. List out all column names of ```df```. (1 pt)"
   ]
  },
  {
   "cell_type": "markdown",
   "metadata": {
    "colab_type": "text",
    "id": "e8QcdyIvy8t6"
   },
   "source": [
    "#### Code:"
   ]
  },
  {
   "cell_type": "code",
   "execution_count": null,
   "metadata": {
    "colab": {},
    "colab_type": "code",
    "id": "0ALiWgu5y8t7"
   },
   "outputs": [],
   "source": []
  },
  {
   "cell_type": "markdown",
   "metadata": {
    "colab_type": "text",
    "id": "fc-tBI3_y8t9"
   },
   "source": [
    "### Q2. Set ```CountyId``` as an index for ```df```. (1 pt)"
   ]
  },
  {
   "cell_type": "markdown",
   "metadata": {
    "colab_type": "text",
    "id": "PxljsQ2yy8t9"
   },
   "source": [
    "#### Answer:"
   ]
  },
  {
   "cell_type": "code",
   "execution_count": null,
   "metadata": {
    "colab": {},
    "colab_type": "code",
    "id": "-6Ty46ZVy8t-"
   },
   "outputs": [],
   "source": []
  },
  {
   "cell_type": "markdown",
   "metadata": {
    "colab_type": "text",
    "id": "6iGk8ClRy8uA"
   },
   "source": [
    "### Q3 (a) Find the rows where ```Unemployment``` is greater than 10. (2 pts)"
   ]
  },
  {
   "cell_type": "markdown",
   "metadata": {
    "colab_type": "text",
    "id": "fzg10xVgy8uA"
   },
   "source": [
    "#### Code:"
   ]
  },
  {
   "cell_type": "code",
   "execution_count": null,
   "metadata": {
    "colab": {},
    "colab_type": "code",
    "id": "9mBh6gX-y8uB"
   },
   "outputs": [],
   "source": []
  },
  {
   "cell_type": "markdown",
   "metadata": {
    "colab_type": "text",
    "id": "5lDXE_Hby8uD"
   },
   "source": [
    "### Q3 (b) How many counties have ```Unemployment``` > 10? (1 pt)"
   ]
  },
  {
   "cell_type": "markdown",
   "metadata": {
    "colab_type": "text",
    "id": "3Gqiggmwy8uD"
   },
   "source": [
    "#### Code:"
   ]
  },
  {
   "cell_type": "code",
   "execution_count": null,
   "metadata": {
    "colab": {},
    "colab_type": "code",
    "id": "dQPlZYyWy8uE"
   },
   "outputs": [],
   "source": []
  },
  {
   "cell_type": "markdown",
   "metadata": {
    "colab_type": "text",
    "id": "CeVUzurIy8uF"
   },
   "source": [
    "#### Answer:"
   ]
  },
  {
   "cell_type": "code",
   "execution_count": null,
   "metadata": {
    "colab": {},
    "colab_type": "code",
    "id": "n-diR-tHy8uG"
   },
   "outputs": [],
   "source": []
  },
  {
   "cell_type": "markdown",
   "metadata": {
    "colab_type": "text",
    "id": "qxu6WpxVy8uK"
   },
   "source": [
    "### Q4. Find the state with the most self-employed population. (3 pts)"
   ]
  },
  {
   "cell_type": "markdown",
   "metadata": {
    "colab_type": "text",
    "id": "kz0kzrnBy8uL"
   },
   "source": [
    "#### Code:"
   ]
  },
  {
   "cell_type": "code",
   "execution_count": null,
   "metadata": {
    "colab": {},
    "colab_type": "code",
    "id": "DiIvYNZpy8uL"
   },
   "outputs": [],
   "source": []
  },
  {
   "cell_type": "markdown",
   "metadata": {
    "colab_type": "text",
    "id": "i2oeBkApy8uN"
   },
   "source": [
    "#### Answer:"
   ]
  },
  {
   "cell_type": "code",
   "execution_count": null,
   "metadata": {
    "colab": {},
    "colab_type": "code",
    "id": "KHxQm6ezy8uN"
   },
   "outputs": [],
   "source": []
  },
  {
   "cell_type": "markdown",
   "metadata": {
    "colab_type": "text",
    "id": "LVQzoi-Cy8uP"
   },
   "source": [
    "### Q5 (a) Select the state with most self-employed population and save the dataframe as ```df_self_emp```. (1 pt)"
   ]
  },
  {
   "cell_type": "markdown",
   "metadata": {
    "colab_type": "text",
    "id": "WdLjdBfqy8uQ"
   },
   "source": [
    "#### Code:"
   ]
  },
  {
   "cell_type": "code",
   "execution_count": null,
   "metadata": {
    "colab": {},
    "colab_type": "code",
    "id": "ZUP1OjtYy8uQ"
   },
   "outputs": [],
   "source": []
  },
  {
   "cell_type": "markdown",
   "metadata": {
    "colab_type": "text",
    "id": "PCdhzi4_y8uS"
   },
   "source": [
    "### Q5 (b) Find out top 2 most popular means of transportation to work in ```df_self_emp```. (2 pt)"
   ]
  },
  {
   "cell_type": "markdown",
   "metadata": {
    "colab_type": "text",
    "id": "Pk9_KJiHy8uS"
   },
   "source": [
    "#### Code:"
   ]
  },
  {
   "cell_type": "code",
   "execution_count": null,
   "metadata": {
    "colab": {},
    "colab_type": "code",
    "id": "KcW0POmsy8uS"
   },
   "outputs": [],
   "source": []
  },
  {
   "cell_type": "markdown",
   "metadata": {
    "colab_type": "text",
    "id": "26qagyQpy8uU"
   },
   "source": [
    "#### Answer:"
   ]
  },
  {
   "cell_type": "code",
   "execution_count": null,
   "metadata": {
    "colab": {},
    "colab_type": "code",
    "id": "_QXx_IGgy8uU"
   },
   "outputs": [],
   "source": []
  },
  {
   "cell_type": "markdown",
   "metadata": {
    "colab_type": "text",
    "id": "haUCCnNLy8uX"
   },
   "source": [
    "### Q6. What are the top 3 states with the highest ```mean commute```? (3 pts)"
   ]
  },
  {
   "cell_type": "markdown",
   "metadata": {
    "colab_type": "text",
    "id": "nsjshYAHy8uX"
   },
   "source": [
    "#### Code:"
   ]
  },
  {
   "cell_type": "code",
   "execution_count": null,
   "metadata": {
    "colab": {},
    "colab_type": "code",
    "id": "kl3Q6nmNy8uX"
   },
   "outputs": [],
   "source": []
  },
  {
   "cell_type": "markdown",
   "metadata": {
    "colab_type": "text",
    "id": "W7OtLlWKy8uZ"
   },
   "source": [
    "#### Answer:"
   ]
  },
  {
   "cell_type": "code",
   "execution_count": null,
   "metadata": {
    "colab": {},
    "colab_type": "code",
    "id": "34qN6HWpy8uZ"
   },
   "outputs": [],
   "source": []
  },
  {
   "cell_type": "markdown",
   "metadata": {
    "colab_type": "text",
    "id": "D67NR8bKy8ub"
   },
   "source": [
    "### Q7 (a) Select the subset of data where ```State``` is one of the states we found in question 6 and save it as top_three. (2 pts)"
   ]
  },
  {
   "cell_type": "markdown",
   "metadata": {
    "colab_type": "text",
    "id": "jZe1rAdsy8ub"
   },
   "source": [
    "#### Code:"
   ]
  },
  {
   "cell_type": "code",
   "execution_count": null,
   "metadata": {
    "colab": {},
    "colab_type": "code",
    "id": "Gh_lNk7Iy8uc"
   },
   "outputs": [],
   "source": []
  },
  {
   "cell_type": "markdown",
   "metadata": {
    "colab_type": "text",
    "id": "3rTnGpety8ud"
   },
   "source": [
    "### Q7 (b) How many counties are there in the top three states? (1 pt)\n",
    "\n",
    "(Hint: use one of the aggregate functions or review getting basic info section.)"
   ]
  },
  {
   "cell_type": "markdown",
   "metadata": {
    "colab_type": "text",
    "id": "V4rDqsgjy8ud"
   },
   "source": [
    "#### Code:"
   ]
  },
  {
   "cell_type": "code",
   "execution_count": null,
   "metadata": {
    "colab": {},
    "colab_type": "code",
    "id": "_VziNPHfy8ue"
   },
   "outputs": [],
   "source": []
  },
  {
   "cell_type": "markdown",
   "metadata": {
    "colab_type": "text",
    "id": "5SanZc0Ry8uf"
   },
   "source": [
    "### Q7 (c) Find the County with the most ```MeanCommute``` time in ```top_three``` (1 pt)."
   ]
  },
  {
   "cell_type": "markdown",
   "metadata": {
    "colab_type": "text",
    "id": "J_7HAJCly8ug"
   },
   "source": [
    "#### Code:"
   ]
  },
  {
   "cell_type": "code",
   "execution_count": null,
   "metadata": {
    "colab": {},
    "colab_type": "code",
    "id": "o59reUbAy8ug"
   },
   "outputs": [],
   "source": []
  },
  {
   "cell_type": "markdown",
   "metadata": {
    "colab_type": "text",
    "id": "e0WdoWqqy8ui"
   },
   "source": [
    "#### Answer:"
   ]
  },
  {
   "cell_type": "code",
   "execution_count": null,
   "metadata": {
    "colab": {},
    "colab_type": "code",
    "id": "AL8otbJfy8uj"
   },
   "outputs": [],
   "source": []
  },
  {
   "cell_type": "markdown",
   "metadata": {
    "colab_type": "text",
    "id": "wgAeWZbSy8ul"
   },
   "source": [
    "### Q8. Find the top 5 states with the highest income level and find out their top professional working field: 'Professional', 'Service', 'Office', 'Construction', or 'Production.' (5 pts)\n",
    "\n",
    "(hint: use the same approach as Q6 and Q7.)"
   ]
  },
  {
   "cell_type": "markdown",
   "metadata": {
    "colab_type": "text",
    "id": "wb_makRBy8ul"
   },
   "source": [
    "#### Code:"
   ]
  },
  {
   "cell_type": "code",
   "execution_count": null,
   "metadata": {
    "colab": {},
    "colab_type": "code",
    "id": "DqAEFELhy8um"
   },
   "outputs": [],
   "source": []
  },
  {
   "cell_type": "markdown",
   "metadata": {
    "colab_type": "text",
    "id": "bjXwfuqYy8un"
   },
   "source": [
    "#### What are the top five states with the highest income?"
   ]
  },
  {
   "cell_type": "code",
   "execution_count": 4,
   "metadata": {
    "colab": {},
    "colab_type": "code",
    "id": "SzFntG8Ry8uo"
   },
   "outputs": [],
   "source": [
    "# write your answer here."
   ]
  },
  {
   "cell_type": "markdown",
   "metadata": {
    "colab_type": "text",
    "id": "PzStbWG3y8up"
   },
   "source": [
    "#### What is the most popular working field in the top five states?"
   ]
  },
  {
   "cell_type": "code",
   "execution_count": 5,
   "metadata": {
    "colab": {},
    "colab_type": "code",
    "id": "iKS-S78xy8up"
   },
   "outputs": [],
   "source": [
    "# write your answer here."
   ]
  },
  {
   "cell_type": "markdown",
   "metadata": {
    "colab_type": "text",
    "id": "hW96XGAEy8ur"
   },
   "source": [
    "### Q9. Find the state with the highest male population. (3 pts)"
   ]
  },
  {
   "cell_type": "markdown",
   "metadata": {
    "colab_type": "text",
    "id": "udRRvME-y8ur"
   },
   "source": [
    "#### Code:"
   ]
  },
  {
   "cell_type": "code",
   "execution_count": null,
   "metadata": {
    "colab": {},
    "colab_type": "code",
    "id": "3ceJbLRwy8ur"
   },
   "outputs": [],
   "source": []
  },
  {
   "cell_type": "markdown",
   "metadata": {
    "colab_type": "text",
    "id": "M8BmiT3Ty8uu"
   },
   "source": [
    "#### Answer:"
   ]
  },
  {
   "cell_type": "code",
   "execution_count": null,
   "metadata": {
    "colab": {},
    "colab_type": "code",
    "id": "QMMpBaUay8uu"
   },
   "outputs": [],
   "source": []
  },
  {
   "cell_type": "markdown",
   "metadata": {
    "colab_type": "text",
    "id": "7pIT8Z4ay8uw"
   },
   "source": [
    "### Q10. Select the state where the male population is greater than the female population. (5 pts)\n",
    "(Hint 1: Find the sum of the male and female population at a state level.)\n",
    "\n",
    "(Hint 2: There are 10 states that meet this condition.)"
   ]
  },
  {
   "cell_type": "markdown",
   "metadata": {
    "colab_type": "text",
    "id": "KWqechtpy8uw"
   },
   "source": [
    "#### Code:"
   ]
  },
  {
   "cell_type": "code",
   "execution_count": null,
   "metadata": {
    "colab": {},
    "colab_type": "code",
    "id": "3jnjij4py8uw"
   },
   "outputs": [],
   "source": []
  },
  {
   "cell_type": "markdown",
   "metadata": {
    "colab_type": "text",
    "id": "dEGjsuVJy8uy"
   },
   "source": [
    "#### Answer:"
   ]
  },
  {
   "cell_type": "code",
   "execution_count": null,
   "metadata": {
    "colab": {},
    "colab_type": "code",
    "id": "6pE9RP-Ty8uy"
   },
   "outputs": [],
   "source": []
  }
 ],
 "metadata": {
  "colab": {
   "include_colab_link": true,
   "name": "Week2-Lab.ipynb",
   "provenance": []
  },
  "kernelspec": {
   "display_name": "Python 3",
   "language": "python",
   "name": "python3"
  },
  "language_info": {
   "codemirror_mode": {
    "name": "ipython",
    "version": 3
   },
   "file_extension": ".py",
   "mimetype": "text/x-python",
   "name": "python",
   "nbconvert_exporter": "python",
   "pygments_lexer": "ipython3",
   "version": "3.7.7"
  }
 },
 "nbformat": 4,
 "nbformat_minor": 1
}
