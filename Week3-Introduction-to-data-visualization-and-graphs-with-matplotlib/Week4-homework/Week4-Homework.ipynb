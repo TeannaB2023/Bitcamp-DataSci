{
  "nbformat": 4,
  "nbformat_minor": 0,
  "metadata": {
    "kernelspec": {
      "display_name": "Python 3",
      "language": "python",
      "name": "python3"
    },
    "language_info": {
      "codemirror_mode": {
        "name": "ipython",
        "version": 3
      },
      "file_extension": ".py",
      "mimetype": "text/x-python",
      "name": "python",
      "nbconvert_exporter": "python",
      "pygments_lexer": "ipython3",
      "version": "3.7.4"
    },
    "colab": {
      "name": "Week4-Homework.ipynb",
      "provenance": [],
      "include_colab_link": true
    }
  },
  "cells": [
    {
      "cell_type": "markdown",
      "metadata": {
        "id": "view-in-github",
        "colab_type": "text"
      },
      "source": [
        "<a href=\"https://colab.research.google.com/github/bitprj/DigitalHistory/blob/master/Week4-Introduction-to-data-visualization-and-graphs-with-matplotlib/Week4-homework/Week4-Homework.ipynb\" target=\"_parent\"><img src=\"https://colab.research.google.com/assets/colab-badge.svg\" alt=\"Open In Colab\"/></a>"
      ]
    },
    {
      "cell_type": "markdown",
      "metadata": {
        "id": "_mwoK-OGd4Ie",
        "colab_type": "text"
      },
      "source": [
        "## <div align=\"center\">Homework 4</div>\n",
        "\n"
      ]
    },
    {
      "cell_type": "markdown",
      "metadata": {
        "id": "mTu386TreGYK",
        "colab_type": "text"
      },
      "source": [
        "# <div align=\"center\">Malnutrition, A disease the world has forgotten</div>"
      ]
    },
    {
      "cell_type": "code",
      "metadata": {
        "id": "UhAXLCCGd4If",
        "colab_type": "code",
        "colab": {}
      },
      "source": [
        "# Run the Following Code\n",
        "!pip install descartes\n",
        "!pip install geopandas"
      ],
      "execution_count": null,
      "outputs": []
    },
    {
      "cell_type": "markdown",
      "metadata": {
        "id": "dlsnYt9Jd4Ik",
        "colab_type": "text"
      },
      "source": [
        "Welcome to Homework 4. In this homework, you will be using the techniques you learned throughout Week 4. The purpose of this homework for you to be able to practice visualization and the articulation of your observations. You will be asked to find answers to questions using ```matplotlib``` and ```pandas```. Because these topics are very new to you and can be challenging to absorb, we will be giving you hints and references to relevant sections in the week 4 lessons for some coding questions.\n",
        "\n",
        "By the end of the exercise, the deliverables are:\n",
        "\n",
        "|    Questions                                      | # of assignments|\n",
        "|---------------------------------------------------|-----------------|\n",
        "|Dataframe cleaning using pandas                    |1                |\n",
        "|Pandas Questions                                   |4                |\n",
        "|Histogram plots                                    |1                |\n",
        "|Scatter plots                                      |4                |\n",
        "|Bar plots                                          |4                |\n",
        "|Plot of the world map with the required features.  |3                |\n",
        "|A comparison between two countries of your choice |3                |"
      ]
    },
    {
      "cell_type": "markdown",
      "metadata": {
        "id": "lcSP9Q-Sd4Ik",
        "colab_type": "text"
      },
      "source": [
        "## About the Dataset\n",
        "\n",
        "### Malnutrition EDA\n",
        "Malnutrition is a condition that results from eating a diet in which one or more nutrients are either not enough or are too much such that the diet causes health problems.\n",
        "\n",
        "Wasting: Also known as 'acute malnutrition', wasting is characterized by a rapid deterioration in nutritional status over a short period of time in children under five years of age. Wasted children are at higher risk of dying.\n",
        "\n",
        "Stunting is the impaired growth and development that children experience from poor nutrition, repeated infection, and inadequate psychosocial stimulation. Children are defined as stunted if their height-for-age is more than two standard deviations below the WHO Child Growth Standards median.\n",
        "\n",
        "**The data available**\n",
        "\n",
        "```Severe Wasting``` - % of children aged 0–59 months who are below minus three standard deviations from median weight-for-height.\n",
        "\n",
        "```Wasting``` – Moderate and severe: % of children aged 0–59 months who are below minus two standard deviations from median weight-for-height\n",
        "\n",
        "```Overweight``` – Moderate and severe: % aged 0-59 months who are above two standard deviations from median weight-for-height\n",
        "\n",
        "```Stunting``` – Moderate and severe:\n",
        "% of children aged 0–59 months who are below minus two standard deviations from median height-for-age\n",
        "\n",
        "```Underweight``` – Moderate and severe: % of children aged 0–59 months who are below minus two standard deviations from median weight-for-age\n",
        "\n",
        "```Income Classification``` - When it comes to income, the World Bank divides the world's economies into four income groups: \n",
        "- High\n",
        "- Upper-middle \n",
        "- Lower-middle\n",
        "- Low\n",
        "\n",
        "The income classification is based on a measure of national income per person, or GNI per capita, calculated using the Atlas method."
      ]
    },
    {
      "cell_type": "markdown",
      "metadata": {
        "id": "jtXEzM1_d4Il",
        "colab_type": "text"
      },
      "source": [
        "## Grading \n",
        "\n",
        "Every question in this homework is worth a point. There are a total of 20 questions.\n",
        "If a question has 2 parts, each part is worth half a point."
      ]
    },
    {
      "cell_type": "markdown",
      "metadata": {
        "id": "_PEsPl-md4Im",
        "colab_type": "text"
      },
      "source": [
        "## Import libraries"
      ]
    },
    {
      "cell_type": "code",
      "metadata": {
        "id": "8w_mmDnbd4In",
        "colab_type": "code",
        "colab": {}
      },
      "source": [
        "import pandas as pd\n",
        "import numpy as np\n",
        "import matplotlib.pyplot as plt"
      ],
      "execution_count": null,
      "outputs": []
    },
    {
      "cell_type": "markdown",
      "metadata": {
        "id": "hBdbpiN9d4Ir",
        "colab_type": "text"
      },
      "source": [
        "## Load the Dataset"
      ]
    },
    {
      "cell_type": "code",
      "metadata": {
        "id": "K_UBZRDNd4Is",
        "colab_type": "code",
        "colab": {}
      },
      "source": [
        "df = pd.read_csv('malnutrition/malnutrition.csv')\n",
        "df"
      ],
      "execution_count": null,
      "outputs": []
    },
    {
      "cell_type": "code",
      "metadata": {
        "id": "9VhFKkVKd4Iv",
        "colab_type": "code",
        "colab": {}
      },
      "source": [
        "df = df.drop(columns = 'Unnamed: 0',axis = 1)\n",
        "df"
      ],
      "execution_count": null,
      "outputs": []
    },
    {
      "cell_type": "markdown",
      "metadata": {
        "id": "cch8_GVGd4Iz",
        "colab_type": "text"
      },
      "source": [
        "## Use pandas to display the basic information of the dataset"
      ]
    },
    {
      "cell_type": "code",
      "metadata": {
        "id": "jYZ4YDUbd4I0",
        "colab_type": "code",
        "colab": {}
      },
      "source": [
        "# head()\n",
        "#INSERT CODE HERE"
      ],
      "execution_count": null,
      "outputs": []
    },
    {
      "cell_type": "code",
      "metadata": {
        "id": "EMivw37Ed4I4",
        "colab_type": "code",
        "colab": {}
      },
      "source": [
        "# tail()\n",
        "#INSERT CODE HERE"
      ],
      "execution_count": null,
      "outputs": []
    },
    {
      "cell_type": "code",
      "metadata": {
        "id": "zIP1psGFd4I9",
        "colab_type": "code",
        "colab": {}
      },
      "source": [
        "# describe()\n",
        "#INSERT CODE HERE"
      ],
      "execution_count": null,
      "outputs": []
    },
    {
      "cell_type": "code",
      "metadata": {
        "id": "an8KHYV5d4JA",
        "colab_type": "code",
        "colab": {}
      },
      "source": [
        "# info()\n",
        "#INSERT CODE HERE"
      ],
      "execution_count": null,
      "outputs": []
    },
    {
      "cell_type": "markdown",
      "metadata": {
        "id": "SXxj5flxd4JD",
        "colab_type": "text"
      },
      "source": [
        "### Q1. Check the total number of null values for each column and drop them [Graded]"
      ]
    },
    {
      "cell_type": "code",
      "metadata": {
        "id": "bgKO_h7yd4JE",
        "colab_type": "code",
        "colab": {}
      },
      "source": [
        "df.____().sum() #INSERT CODE HERE"
      ],
      "execution_count": null,
      "outputs": []
    },
    {
      "cell_type": "code",
      "metadata": {
        "id": "SfdvGMUxd4JI",
        "colab_type": "code",
        "colab": {}
      },
      "source": [
        "df = df.____() #INSERT CODE HERE\n",
        "df "
      ],
      "execution_count": null,
      "outputs": []
    },
    {
      "cell_type": "markdown",
      "metadata": {
        "id": "oRrCuAz9d4JN",
        "colab_type": "text"
      },
      "source": [
        "## Pandas Questions "
      ]
    },
    {
      "cell_type": "markdown",
      "metadata": {
        "id": "qeeM3IM-d4JO",
        "colab_type": "text"
      },
      "source": [
        "### Q2. Which country shows highest Underweight percentage? [Graded]"
      ]
    },
    {
      "cell_type": "code",
      "metadata": {
        "id": "75j_MtPKd4JP",
        "colab_type": "code",
        "colab": {}
      },
      "source": [
        ""
      ],
      "execution_count": null,
      "outputs": []
    },
    {
      "cell_type": "markdown",
      "metadata": {
        "id": "ZZIenMzxd4JT",
        "colab_type": "text"
      },
      "source": [
        "### Q3. Which country shows highest Overweight percentage? [Graded]"
      ]
    },
    {
      "cell_type": "code",
      "metadata": {
        "id": "oUR4b1-Ad4JU",
        "colab_type": "code",
        "colab": {}
      },
      "source": [
        ""
      ],
      "execution_count": null,
      "outputs": []
    },
    {
      "cell_type": "markdown",
      "metadata": {
        "id": "muzNndj6d4JX",
        "colab_type": "text"
      },
      "source": [
        "### Q4. Top 5 Countries that are the most malnourished? [Graded]"
      ]
    },
    {
      "cell_type": "code",
      "metadata": {
        "id": "sXqd1Hj0d4JX",
        "colab_type": "code",
        "colab": {}
      },
      "source": [
        ""
      ],
      "execution_count": null,
      "outputs": []
    },
    {
      "cell_type": "markdown",
      "metadata": {
        "id": "pZx68qDJd4Jd",
        "colab_type": "text"
      },
      "source": [
        "### Q5. Top 5 Countries that are the most malnourished? [Graded]"
      ]
    },
    {
      "cell_type": "code",
      "metadata": {
        "id": "LrnL8lB9d4Jd",
        "colab_type": "code",
        "colab": {}
      },
      "source": [
        ""
      ],
      "execution_count": null,
      "outputs": []
    },
    {
      "cell_type": "markdown",
      "metadata": {
        "id": "HWOVci7dd4Jg",
        "colab_type": "text"
      },
      "source": [
        "## Histograms"
      ]
    },
    {
      "cell_type": "markdown",
      "metadata": {
        "id": "xy1gDau1d4Jh",
        "colab_type": "text"
      },
      "source": [
        "### Q6. Unique Income Classification Histogram [Graded]"
      ]
    },
    {
      "cell_type": "code",
      "metadata": {
        "id": "SlCJ2PjDd4Ji",
        "colab_type": "code",
        "colab": {}
      },
      "source": [
        "# Check the number of Unique values int the 'Income Classification' column\n",
        "df['INSERT COLUMN NAME'].______ #INSERT CODE HERE"
      ],
      "execution_count": null,
      "outputs": []
    },
    {
      "cell_type": "code",
      "metadata": {
        "id": "5DNRiOPCd4Jo",
        "colab_type": "code",
        "colab": {}
      },
      "source": [
        "# Display the histogram for the Income Classification column, set bins to 20\n",
        "df[\"INSERT COLUMN NAME\"].______ #INSERT CODE HERE"
      ],
      "execution_count": null,
      "outputs": []
    },
    {
      "cell_type": "markdown",
      "metadata": {
        "id": "G7uPj-Fbd4Jr",
        "colab_type": "text"
      },
      "source": [
        "### Scatter Plots for Income Classification \n",
        "\n",
        "In this part, you will be drawing four scatterplots as subplots of a larger plot. The plot will have a figure size of (20,10).\n",
        "\n",
        "Throughout this exercise keep ```x``` as ```Income Classification```."
      ]
    },
    {
      "cell_type": "code",
      "metadata": {
        "id": "sXwI4Gz1d4Js",
        "colab_type": "code",
        "colab": {}
      },
      "source": [
        "fig = plt.figure(figsize = (30,15))\n",
        "\n",
        "ax1 = fig.add_subplot(2,2,1)\n",
        "ax2 = fig.add_subplot(2,2,2)\n",
        "ax3 = fig.add_subplot(2,2,3)\n",
        "ax4 = fig.add_subplot(2,2,4)"
      ],
      "execution_count": null,
      "outputs": []
    },
    {
      "cell_type": "markdown",
      "metadata": {
        "id": "F9S8am6nd4Jv",
        "colab_type": "text"
      },
      "source": [
        "### Q7. Wasting [Graded]"
      ]
    },
    {
      "cell_type": "code",
      "metadata": {
        "id": "X3mAjqNpd4Jw",
        "colab_type": "code",
        "colab": {}
      },
      "source": [
        "df.plot(# INSERT CODE HERE\n",
        "        # INSERT CODE HERE \n",
        "        # INSERT CODE HERE\n",
        "        ax = # INSERT CODE HERE \n",
        "        _____='k') #INSERT CODE HERE\n"
      ],
      "execution_count": null,
      "outputs": []
    },
    {
      "cell_type": "markdown",
      "metadata": {
        "id": "7etIYyYPd4Jz",
        "colab_type": "text"
      },
      "source": [
        "### Q8. Overweight [Graded]"
      ]
    },
    {
      "cell_type": "code",
      "metadata": {
        "id": "l-8gRVuNd4Jz",
        "colab_type": "code",
        "colab": {}
      },
      "source": [
        "df.plot(# INSERT CODE HERE\n",
        "        # INSERT CODE HERE\n",
        "        # INSERT CODE HERE,\n",
        "         # INSERT CODE HERE\n",
        "       )\n",
        "        "
      ],
      "execution_count": null,
      "outputs": []
    },
    {
      "cell_type": "markdown",
      "metadata": {
        "id": "mza1wPpWd4J6",
        "colab_type": "text"
      },
      "source": [
        "### Q9. Stunting [Graded]"
      ]
    },
    {
      "cell_type": "code",
      "metadata": {
        "id": "yxoJIkfsd4J7",
        "colab_type": "code",
        "colab": {}
      },
      "source": [
        "df.plot(# INSERT CODE HERE\n",
        "        # INSERT CODE HERE\n",
        "        # INSERT CODE HERE\n",
        "        # INSERT CODE HERE\n",
        "        # INSERT CODE HERE)"
      ],
      "execution_count": null,
      "outputs": []
    },
    {
      "cell_type": "markdown",
      "metadata": {
        "id": "soKBjprbd4KF",
        "colab_type": "text"
      },
      "source": [
        "### Q10. U5 Population (\\'000s) [Graded]"
      ]
    },
    {
      "cell_type": "code",
      "metadata": {
        "id": "TEmaOYNYd4KG",
        "colab_type": "code",
        "colab": {}
      },
      "source": [
        "df.plot(# INSERT CODE HERE\n",
        "        # INSERT CODE HERE\n",
        "        # INSERT CODE HERE\n",
        "        # INSERT CODE HERE\n",
        "        # INSERT CODE HERE)"
      ],
      "execution_count": null,
      "outputs": []
    },
    {
      "cell_type": "code",
      "metadata": {
        "id": "pF1g59wed4KM",
        "colab_type": "code",
        "colab": {}
      },
      "source": [
        "fig"
      ],
      "execution_count": null,
      "outputs": []
    },
    {
      "cell_type": "markdown",
      "metadata": {
        "id": "4SOQpQTUd4KQ",
        "colab_type": "text"
      },
      "source": [
        "## Bar Graphs"
      ]
    },
    {
      "cell_type": "markdown",
      "metadata": {
        "id": "wf7uo-26d4KQ",
        "colab_type": "text"
      },
      "source": [
        "### Q11. Plot a bar graph for the countries that have a waste percentage greater or equal to 15 [GRADED]"
      ]
    },
    {
      "cell_type": "code",
      "metadata": {
        "id": "07gdjUMAd4KR",
        "colab_type": "code",
        "colab": {}
      },
      "source": [
        "filt = ___________ >= ____ # INSERT CODE HERE\n",
        "\n",
        "# find rows which match filt\n",
        "max_waste = df._____(filt) # INSERT CODE HERE\n",
        "# drop the null values \n",
        "max_waste = max_waste.# INSERT CODE HERE\n",
        "\n",
        "\n",
        "max_waste.plot(kind = 'bar',\n",
        "               # INSERT CODE HERE\n",
        "               # INSERT CODE HERE\n",
        "               # INSERT CODE HERE\n",
        "               figsize=(20,10))"
      ],
      "execution_count": null,
      "outputs": []
    },
    {
      "cell_type": "markdown",
      "metadata": {
        "id": "4HItFJUsd4KT",
        "colab_type": "text"
      },
      "source": [
        "### Q12. Plot a bar graph for the countries that have a waste percentage less than or equal to 2 [GRADED]"
      ]
    },
    {
      "cell_type": "code",
      "metadata": {
        "id": "2aGo1nKbd4KU",
        "colab_type": "code",
        "colab": {}
      },
      "source": [
        "# INSERT CODE HERE\n",
        "\n",
        "# INSERT CODE HERE\n",
        "# INSERT CODE HERE\n",
        "# INSERT CODE HERE\n",
        "        figsize=(20,10))"
      ],
      "execution_count": null,
      "outputs": []
    },
    {
      "cell_type": "markdown",
      "metadata": {
        "id": "2v7fj8-8d4KX",
        "colab_type": "text"
      },
      "source": [
        "### Q13. Plot a bar graph showing all the countries with an income classification of 3.0"
      ]
    },
    {
      "cell_type": "code",
      "metadata": {
        "id": "0NQwf352d4KY",
        "colab_type": "code",
        "colab": {}
      },
      "source": [
        "filt = _________ == ____ # INSERT CODE HERE\n",
        "\n",
        "# INSERT CODE HERE\n",
        "# INSERT CODE HERE\n",
        "HIGH_Income.plot(kind = 'bar',x = 'Country',\n",
        "                 # INSERT CODE HERE,\n",
        "                 figsize=(20,10))"
      ],
      "execution_count": null,
      "outputs": []
    },
    {
      "cell_type": "markdown",
      "metadata": {
        "id": "GH2MBMrbd4Kb",
        "colab_type": "text"
      },
      "source": [
        "### Q14. Plot a bar graph showing all the countries with an Income Classification of 0 [GRADED]"
      ]
    },
    {
      "cell_type": "code",
      "metadata": {
        "id": "1wKzg2mHd4Kc",
        "colab_type": "code",
        "colab": {}
      },
      "source": [
        "# INSERT CODE HERE\n",
        "\n",
        "# INSERT CODE HERE\n",
        "# INSERT CODE HERE\n",
        "# INSERT CODE HERE"
      ],
      "execution_count": null,
      "outputs": []
    },
    {
      "cell_type": "markdown",
      "metadata": {
        "id": "mmkkbepid4Kg",
        "colab_type": "text"
      },
      "source": [
        "## Plot the World Map"
      ]
    },
    {
      "cell_type": "markdown",
      "metadata": {
        "id": "aYHX82qBd4Kh",
        "colab_type": "text"
      },
      "source": [
        "As a bonus I've added a feature that prints out the world map to make our visualizations more observable."
      ]
    },
    {
      "cell_type": "code",
      "metadata": {
        "id": "CDzzuhYrd4Kh",
        "colab_type": "code",
        "colab": {}
      },
      "source": [
        "# Donot Modify\n",
        "import descartes\n",
        "import geopandas as gpd\n",
        "world = gpd.read_file(gpd.datasets.get_path('naturalearth_lowres'))"
      ],
      "execution_count": null,
      "outputs": []
    },
    {
      "cell_type": "markdown",
      "metadata": {
        "id": "p_P8PLm6d4Kk",
        "colab_type": "text"
      },
      "source": [
        "### 15. Plot the Longitude vs Latitude [GRADED]\n",
        "\n",
        "Set ```alpha``` to 0.6"
      ]
    },
    {
      "cell_type": "code",
      "metadata": {
        "id": "ZiiIU0Xed4Kl",
        "colab_type": "code",
        "colab": {}
      },
      "source": [
        "# Donot Modify the two lines below\n",
        "fig,ax = plt.subplots(figsize=(30,15))\n",
        "world.plot(ax=ax, color='lightgray')\n",
        "\n",
        "df.plot(kind=\"scatter\",\n",
        "        # INSERT CODE HERE\n",
        "        # INSERT CODE HERE\n",
        "        # INSERT CODE HEREA\n",
        "        ax = ax)\n",
        "\n",
        "plt.show()"
      ],
      "execution_count": null,
      "outputs": []
    },
    {
      "cell_type": "markdown",
      "metadata": {
        "id": "aa2i1_Xtd4Kn",
        "colab_type": "text"
      },
      "source": [
        "### 16. Adding a color map for Income Classification [GRADED]\n",
        "\n",
        "Property: ```c : color, sequence, or sequence of color```\n",
        "\n",
        "Equate it to Income Classification.\n",
        "\n",
        "Also, add the following:\n",
        "- ```cmap: Colormap```\n",
        "- ```colorbar```\n",
        "- ```xlabel```\n",
        "- ```ylabel```\n",
        "- ```legend```\n",
        "\n",
        "**Note**: Features in the plot above must be present."
      ]
    },
    {
      "cell_type": "code",
      "metadata": {
        "id": "-_VQ4U1Bd4Ko",
        "colab_type": "code",
        "colab": {}
      },
      "source": [
        "# Donot Modify the two lines below\n",
        "fig, ax = plt.subplots(figsize=(20,10))\n",
        "world.plot(ax=ax, color='lightgray')\n",
        "\n",
        "df.plot(kind=\"scatter\",\n",
        "             # INSERT CODE HERE\n",
        "             # INSERT CODE HERE\n",
        "             # INSERT CODE HERE\n",
        "             # INSERT CODE HERE \n",
        "             # INSERT CODE HERE\n",
        "             # INSERT CODE HERE\n",
        "             ax = ax)\n",
        "\n",
        "# INSERT CODE HERE\n",
        "# INSERT CODE HERE\n",
        "# INSERT CODE HERE\n",
        "plt.show()"
      ],
      "execution_count": null,
      "outputs": []
    },
    {
      "cell_type": "markdown",
      "metadata": {
        "id": "ekh8av45d4Ks",
        "colab_type": "text"
      },
      "source": [
        "### 17. Adding a scalar pointer, U5-population\n",
        "Property: ```s : scalar or array_like, shape (n, )```\n",
        "\n",
        "\n",
        "Also, add the following:\n",
        "- Replace c with Stunting\n",
        "- Add a label for the feature\n",
        "\n",
        "**Note:** In order to get a viewable graph, you will have to divide the feature by a multiple of 10. Be careful, too high and your scalar points won't be distinguishable.\n",
        "\n",
        "\n",
        "\n"
      ]
    },
    {
      "cell_type": "code",
      "metadata": {
        "id": "2RZ9XxKld4Kt",
        "colab_type": "code",
        "colab": {}
      },
      "source": [
        "# Donot Modify the two lines below\n",
        "fig, ax = plt.subplots(figsize=(30,15))\n",
        "world.plot(ax=ax, color='lightgray')\n",
        "\n",
        "df.plot(# INSERT CODE HERE\n",
        "             # INSERT CODE HERE\n",
        "             # INSERT CODE HERE\n",
        "             # INSERT CODE HERE\n",
        "             # INSERT CODE HERE\n",
        "             # INSERT CODE HERE\n",
        "             # INSERT CODE HERE\n",
        "             # INSERT CODE HERE\n",
        "             # INSERT CODE HERE\n",
        "            ax = ax)\n",
        "\n",
        "\n",
        "\n",
        "\n",
        "# INSERT CODE HERE\n",
        "# INSERT CODE HERE\n",
        "# INSERT CODE HERE\n",
        "\n",
        "plt.show()\n"
      ],
      "execution_count": null,
      "outputs": []
    },
    {
      "cell_type": "markdown",
      "metadata": {
        "id": "OePrOur6d4Kw",
        "colab_type": "text"
      },
      "source": [
        "## Compare two countries of your choice\n",
        "\n"
      ]
    },
    {
      "cell_type": "code",
      "metadata": {
        "id": "v2U-u0qVd4Kw",
        "colab_type": "code",
        "colab": {}
      },
      "source": [
        "fig = plt.figure(figsize=(20,10))\n",
        "\n",
        "ax1 = fig.add_subplot(1,2,1)\n",
        "ax2 = fig.add_subplot(1,2,2)\n",
        "\n",
        "# We won't need the these columns\n",
        "columns_to_remove =  ['U5 Population (\\'000s)','Longitude','Latitude']"
      ],
      "execution_count": null,
      "outputs": []
    },
    {
      "cell_type": "markdown",
      "metadata": {
        "id": "_Lrubv4ad4Kz",
        "colab_type": "text"
      },
      "source": [
        "### 18. New DataFrame for Country 1 [GRADED]\n"
      ]
    },
    {
      "cell_type": "code",
      "metadata": {
        "id": "sEp71RFrd4K0",
        "colab_type": "code",
        "colab": {}
      },
      "source": [
        "filt = _________ == 'COUNTRY NAME'\n",
        "\n",
        "# Make a new DataFrame using the filter\n",
        "______ = df.____(____)\n",
        "\n",
        "# Drop the columns in columns_to_remove\n",
        "______ = # INSERT CODE HERE\n",
        "\n",
        "# Drop all null values\n",
        "______ = # INSERT CODE HERE\n",
        "\n",
        "# view your newdataframe below\n",
        "\n",
        "____"
      ],
      "execution_count": null,
      "outputs": []
    },
    {
      "cell_type": "markdown",
      "metadata": {
        "id": "pdRjvmGtd4K2",
        "colab_type": "text"
      },
      "source": [
        "### 19. New DataFrame for Country 2 [GRADED]"
      ]
    },
    {
      "cell_type": "code",
      "metadata": {
        "id": "L7wh-O6xd4K3",
        "colab_type": "code",
        "colab": {}
      },
      "source": [
        "# Make a filter\n",
        "# INSERT CODE HERE\n",
        "\n",
        "# Make a new DataFrame using the filter\n",
        "# INSERT CODE HERE\n",
        "\n",
        "# Drop the columns in columns_to_remove\n",
        "# INSERT CODE HERE\n",
        "\n",
        "# Drop all null values\n",
        "# INSERT CODE HERE\n",
        "\n",
        "# view your newdataframe below\n",
        "\n",
        "# INSERT CODE HERE"
      ],
      "execution_count": null,
      "outputs": []
    },
    {
      "cell_type": "markdown",
      "metadata": {
        "id": "q1du6Bded4K6",
        "colab_type": "text"
      },
      "source": [
        "### 20. Plots bar charts for allfeatures of  both DataFrames [GRADED]"
      ]
    },
    {
      "cell_type": "code",
      "metadata": {
        "id": "256-0rv1d4K6",
        "colab_type": "code",
        "colab": {}
      },
      "source": [
        "# Country 1\n",
        "_____.plot(# INSERT CODE HERE\n",
        "            # INSERT CODE HERE\n",
        "            ax = ax1)\n",
        "# Country 2\n",
        "#INSERT CODE HERE\n",
        "        # INSERT CODE HERE\n",
        "        # INSERT CODE HERE\n",
        "        )"
      ],
      "execution_count": null,
      "outputs": []
    },
    {
      "cell_type": "code",
      "metadata": {
        "id": "3RDz_pM9d4LA",
        "colab_type": "code",
        "colab": {}
      },
      "source": [
        "fig"
      ],
      "execution_count": null,
      "outputs": []
    },
    {
      "cell_type": "markdown",
      "metadata": {
        "id": "UynLVaoad4LE",
        "colab_type": "text"
      },
      "source": [
        "## Appendix\n",
        "\n"
      ]
    },
    {
      "cell_type": "markdown",
      "metadata": {
        "id": "uEiHtr69d4LE",
        "colab_type": "text"
      },
      "source": [
        "### How to Add latitude and Longitude"
      ]
    },
    {
      "cell_type": "code",
      "metadata": {
        "id": "7zKYFLTBd4LF",
        "colab_type": "code",
        "colab": {}
      },
      "source": [
        "from geopy.exc import GeocoderTimedOut \n",
        "from geopy.geocoders import Nominatim \n",
        "   \n",
        "# declare an empty list to store \n",
        "# latitude and longitude of values  \n",
        "# of city column \n",
        "longitude = [] \n",
        "latitude = [] \n",
        "   \n",
        "# function to find the coordinate \n",
        "# of a given city  \n",
        "def findGeocode(city): \n",
        "       \n",
        "    # try and catch is used to overcome \n",
        "    # the exception thrown by geolocator \n",
        "    # using geocodertimedout   \n",
        "    try: \n",
        "          \n",
        "        # Specify the user_agent as your \n",
        "        # app name it should not be none \n",
        "        geolocator = Nominatim(user_agent=\"your_app_name\") \n",
        "          \n",
        "        return geolocator.geocode(city) \n",
        "      \n",
        "    except GeocoderTimedOut: \n",
        "          \n",
        "        return findGeocode(city)     \n",
        "  \n",
        "# each value from city column \n",
        "# will be fetched and sent to \n",
        "# function find_geocode    \n",
        "for i in (df[\"Country\"]): \n",
        "      \n",
        "    if findGeocode(i) != None: \n",
        "           \n",
        "        loc = findGeocode(i) \n",
        "          \n",
        "        # coordinates returned from  \n",
        "        # function is stored into \n",
        "        # two separate list \n",
        "        latitude.append(loc.latitude) \n",
        "        longitude.append(loc.longitude) \n",
        "       \n",
        "    # if coordinate for a city not \n",
        "    # found, insert \"NaN\" indicating  \n",
        "    # missing value  \n",
        "    else: \n",
        "        latitude.append(np.nan) \n",
        "        longitude.append(np.nan) \n",
        "        \n",
        "        \n",
        "df['Latitude'] = latitude\n",
        "df['Longitude'] = longitude\n",
        "df.to_csv(r'../malnutrition/malnutrition.csv')"
      ],
      "execution_count": null,
      "outputs": []
    }
  ]
}